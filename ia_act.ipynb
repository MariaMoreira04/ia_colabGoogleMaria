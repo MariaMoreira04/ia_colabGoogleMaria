{
  "nbformat": 4,
  "nbformat_minor": 0,
  "metadata": {
    "colab": {
      "provenance": [],
      "authorship_tag": "ABX9TyOmPQTeu2z1fmgmTCq2KhHz",
      "include_colab_link": true
    },
    "kernelspec": {
      "name": "python3",
      "display_name": "Python 3"
    },
    "language_info": {
      "name": "python"
    }
  },
  "cells": [
    {
      "cell_type": "markdown",
      "metadata": {
        "id": "view-in-github",
        "colab_type": "text"
      },
      "source": [
        "<a href=\"https://colab.research.google.com/github/MariaMoreira04/ia_colabGoogleMaria/blob/main/ia_act.ipynb\" target=\"_parent\"><img src=\"https://colab.research.google.com/assets/colab-badge.svg\" alt=\"Open In Colab\"/></a>"
      ]
    },
    {
      "cell_type": "code",
      "execution_count": null,
      "metadata": {
        "colab": {
          "base_uri": "https://localhost:8080/"
        },
        "id": "NXFhkxZTVQxc",
        "outputId": "f550be30-ba0d-4552-ccaf-a9a5ff4ebfea"
      },
      "outputs": [
        {
          "output_type": "stream",
          "name": "stdout",
          "text": [
            "Python 3.10.11\n"
          ]
        }
      ],
      "source": [
        "!python --version"
      ]
    },
    {
      "cell_type": "markdown",
      "source": [
        "Tipos de datos básicos"
      ],
      "metadata": {
        "id": "umAtLyVzcW9D"
      }
    },
    {
      "cell_type": "code",
      "source": [
        "ejemplo1=10\n",
        "ejemplo2=2.2\n",
        "ejemplo3='maria'\n",
        "print(type(ejemplo1))\n",
        "print(type(ejemplo2))\n",
        "print(type(ejemplo3))\n",
        "\n",
        "print(ejemplo1+ejemplo2)\n",
        "print(ejemplo1*ejemplo2)\n",
        "print(ejemplo1**2)\n",
        "\n",
        "s1=True\n",
        "s2=False\n",
        "\n",
        "print(s1 and s2)\n",
        "print(s1 or s2)\n",
        "print(not s1)\n",
        "\n",
        "print(len(ejemplo3))\n",
        "#poner letra mayuscula\n",
        "print(ejemplo3.upper())\n",
        "#poner letra minuscula\n",
        "print(ejemplo3.lower())\n",
        "#poner la primer letra mayuscula\n",
        "print(ejemplo3.capitalize())"
      ],
      "metadata": {
        "colab": {
          "base_uri": "https://localhost:8080/"
        },
        "id": "ItOQAme6cdB7",
        "outputId": "87db89d3-35a0-46b7-d77f-4705db831d22"
      },
      "execution_count": null,
      "outputs": [
        {
          "output_type": "stream",
          "name": "stdout",
          "text": [
            "<class 'int'>\n",
            "<class 'float'>\n",
            "<class 'str'>\n",
            "12.2\n",
            "22.0\n",
            "100\n",
            "False\n",
            "True\n",
            "False\n",
            "5\n",
            "MARIA\n",
            "maria\n",
            "Maria\n"
          ]
        }
      ]
    },
    {
      "cell_type": "code",
      "source": [
        "someList=list()\n",
        "someList=['borrador','cuaderno','goma','mochila']\n",
        "print(someList[2])"
      ],
      "metadata": {
        "id": "2QpYZUnogZ7l",
        "colab": {
          "base_uri": "https://localhost:8080/"
        },
        "outputId": "459c2155-c953-4fd4-de83-f590206c97b1"
      },
      "execution_count": null,
      "outputs": [
        {
          "output_type": "stream",
          "name": "stdout",
          "text": [
            "goma\n"
          ]
        }
      ]
    },
    {
      "cell_type": "code",
      "source": [
        "someList=list()\n",
        "someList=['borrador',1,'goma','mochila', True]\n",
        "print(someList[4])\n",
        "print(len(someList))\n",
        "\n",
        "print('----------')\n",
        "for i in someList:\n",
        "  print (i)\n",
        "\n",
        "someList.append('regla')\n",
        "print('---------')\n",
        "for i in someList:\n",
        "  print (i)\n",
        "  someList.pop(2)\n",
        "  print('*********')\n",
        "for i in someList:\n",
        "  print (i)\n",
        "  someList.pop(1)\n",
        "\n",
        "\n",
        "print('---------')\n",
        "print(someList[1:4]) \n",
        "print('---------')\n",
        "print(someList[-1]) \n",
        "print(someList[:3]) "
      ],
      "metadata": {
        "id": "0UL7g_oicNMp",
        "colab": {
          "base_uri": "https://localhost:8080/"
        },
        "outputId": "21a99661-b7b5-46f7-d241-9ded8e0d3c8f"
      },
      "execution_count": null,
      "outputs": [
        {
          "output_type": "stream",
          "name": "stdout",
          "text": [
            "True\n",
            "5\n",
            "----------\n",
            "borrador\n",
            "1\n",
            "goma\n",
            "mochila\n",
            "True\n",
            "---------\n",
            "borrador\n",
            "*********\n",
            "1\n",
            "*********\n",
            "True\n",
            "*********\n",
            "borrador\n",
            "regla\n",
            "---------\n",
            "[]\n",
            "borrador\n",
            "['borrador']\n"
          ]
        }
      ]
    },
    {
      "cell_type": "markdown",
      "source": [
        "DECLARAR DICCIONARIO:"
      ],
      "metadata": {
        "id": "LID-E7RUGbF5"
      }
    },
    {
      "cell_type": "code",
      "source": [
        "d={'name':'juan', 'age':30, 'city':'El Carmen'}\n",
        "# print(d['name'])\n",
        "# print(d['age'])\n",
        "# print(d['city'])\n",
        "\n",
        "# d['uni']='uleam'\n",
        "# print(d['uni'])\n",
        "\n",
        "for key in d:\n",
        "  print(d[key])"
      ],
      "metadata": {
        "colab": {
          "base_uri": "https://localhost:8080/"
        },
        "id": "hojRsri_Gd0J",
        "outputId": "c989ca3e-0e1d-46ca-8afb-448f597842df"
      },
      "execution_count": null,
      "outputs": [
        {
          "output_type": "stream",
          "name": "stdout",
          "text": [
            "juan\n",
            "30\n",
            "El Carmen\n"
          ]
        }
      ]
    },
    {
      "cell_type": "code",
      "source": [],
      "metadata": {
        "id": "5jNoKKxPF6yQ"
      },
      "execution_count": null,
      "outputs": []
    }
  ]
}