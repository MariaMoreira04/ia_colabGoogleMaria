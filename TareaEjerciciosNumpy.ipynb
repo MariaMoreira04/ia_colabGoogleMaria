{
  "nbformat": 4,
  "nbformat_minor": 0,
  "metadata": {
    "colab": {
      "provenance": [],
      "authorship_tag": "ABX9TyPoQx/3LKmfBTYrCCOabJN+",
      "include_colab_link": true
    },
    "kernelspec": {
      "name": "python3",
      "display_name": "Python 3"
    },
    "language_info": {
      "name": "python"
    }
  },
  "cells": [
    {
      "cell_type": "markdown",
      "metadata": {
        "id": "view-in-github",
        "colab_type": "text"
      },
      "source": [
        "<a href=\"https://colab.research.google.com/github/MariaMoreira04/ia_colabGoogleMaria/blob/main/TareaEjerciciosNumpy.ipynb\" target=\"_parent\"><img src=\"https://colab.research.google.com/assets/colab-badge.svg\" alt=\"Open In Colab\"/></a>"
      ]
    },
    {
      "cell_type": "markdown",
      "source": [
        "\n",
        " 1. Import numpy as np and see the version"
      ],
      "metadata": {
        "id": "fErs_itrlgdx"
      }
    },
    {
      "cell_type": "code",
      "execution_count": 3,
      "metadata": {
        "colab": {
          "base_uri": "https://localhost:8080/"
        },
        "id": "Zt5SvDZOc4SP",
        "outputId": "5606f5ce-4222-4000-8fdb-c8bad2ea9b9f"
      },
      "outputs": [
        {
          "output_type": "stream",
          "name": "stdout",
          "text": [
            "1.22.4\n"
          ]
        }
      ],
      "source": [
        "import numpy as np\n",
        "print(np.__version__)\n",
        "pass"
      ]
    },
    {
      "cell_type": "markdown",
      "source": [
        "2. Create a 1D array of numbers from 0 to 9\n"
      ],
      "metadata": {
        "id": "IDqruVubltNa"
      }
    },
    {
      "cell_type": "code",
      "source": [
        "array_1d = np.arange(10)\n",
        "print(array_1d)\n",
        "pass"
      ],
      "metadata": {
        "colab": {
          "base_uri": "https://localhost:8080/"
        },
        "id": "VOijQa4il0g3",
        "outputId": "8478496c-c5b8-441e-a0c4-60c0e6b4b073"
      },
      "execution_count": 5,
      "outputs": [
        {
          "output_type": "stream",
          "name": "stdout",
          "text": [
            "[0 1 2 3 4 5 6 7 8 9]\n"
          ]
        }
      ]
    },
    {
      "cell_type": "markdown",
      "source": [
        " 3. Create a 3×3 numpy array of all True’s\n"
      ],
      "metadata": {
        "id": "roziJ4u5mmoE"
      }
    },
    {
      "cell_type": "code",
      "source": [
        "array = np.ones((3, 3), dtype=bool)\n",
        "print(array)"
      ],
      "metadata": {
        "colab": {
          "base_uri": "https://localhost:8080/"
        },
        "id": "n52G03v-m5PT",
        "outputId": "9ff73b22-375c-48f1-ce50-37ae7a4d605d"
      },
      "execution_count": 6,
      "outputs": [
        {
          "output_type": "stream",
          "name": "stdout",
          "text": [
            "[[ True  True  True]\n",
            " [ True  True  True]\n",
            " [ True  True  True]]\n"
          ]
        }
      ]
    },
    {
      "cell_type": "markdown",
      "source": [
        " 4. Extract all odd numbers from arr"
      ],
      "metadata": {
        "id": "tGhTw05km_-9"
      }
    },
    {
      "cell_type": "code",
      "source": [
        "arr = np.array([[12, 1, 5], [25, 10, 2], [4, 7, 3]])\n",
        "odd_nums = arr[arr % 2 == 1]\n",
        "print(odd_nums)"
      ],
      "metadata": {
        "colab": {
          "base_uri": "https://localhost:8080/"
        },
        "id": "Trew-bg6nC-M",
        "outputId": "6e331815-1a53-4d39-9304-26bfb14b9026"
      },
      "execution_count": 12,
      "outputs": [
        {
          "output_type": "stream",
          "name": "stdout",
          "text": [
            "[ 1  5 25  7  3]\n"
          ]
        }
      ]
    },
    {
      "cell_type": "markdown",
      "source": [
        "5. Replace all odd numbers in arr with -1"
      ],
      "metadata": {
        "id": "_85yV700oGtq"
      }
    },
    {
      "cell_type": "code",
      "source": [
        "mask = arr % 2 == 1\n",
        "arr[mask] = -1\n",
        "print(arr)"
      ],
      "metadata": {
        "colab": {
          "base_uri": "https://localhost:8080/"
        },
        "id": "EiKFN35JoRLI",
        "outputId": "bb599266-91cc-4fc7-ce48-c7c7717bba04"
      },
      "execution_count": 13,
      "outputs": [
        {
          "output_type": "stream",
          "name": "stdout",
          "text": [
            "[[12 -1 -1]\n",
            " [-1 10  2]\n",
            " [ 4 -1 -1]]\n"
          ]
        }
      ]
    },
    {
      "cell_type": "markdown",
      "source": [
        "6. Convert a 1D array to a 2D array with 2 rows"
      ],
      "metadata": {
        "id": "t10U2xogot23"
      }
    },
    {
      "cell_type": "code",
      "source": [
        "# Example 1D array\n",
        "arr_1d = np.array([6, 2, 1, 4, 5, 3])\n",
        "\n",
        "# Reshape the array to a 2D array with 2 rows\n",
        "arr_2d = arr_1d.reshape(2, -1)\n",
        "\n",
        "# Print the result\n",
        "print(arr_2d)"
      ],
      "metadata": {
        "colab": {
          "base_uri": "https://localhost:8080/"
        },
        "id": "jRW9kp34owp2",
        "outputId": "5ab0e57c-d761-42cc-c89e-2db2a8fb1e08"
      },
      "execution_count": 17,
      "outputs": [
        {
          "output_type": "stream",
          "name": "stdout",
          "text": [
            "[[6 2 1]\n",
            " [4 5 3]]\n"
          ]
        }
      ]
    },
    {
      "cell_type": "markdown",
      "source": [
        "7. Stack arrays a and b vertically"
      ],
      "metadata": {
        "id": "NemBshOQpTej"
      }
    },
    {
      "cell_type": "code",
      "source": [
        "a = np.array([[10, 4, 1], [5, 6, 2]])\n",
        "b = np.array([[1, 3, 8], [2, 12, 18]])\n",
        "c = np.vstack((a, b))\n",
        "print(c)"
      ],
      "metadata": {
        "colab": {
          "base_uri": "https://localhost:8080/"
        },
        "id": "ByntCmKapV4l",
        "outputId": "d7618301-04da-4eed-f8a3-8845f598ca0d"
      },
      "execution_count": 22,
      "outputs": [
        {
          "output_type": "stream",
          "name": "stdout",
          "text": [
            "[[10  4  1]\n",
            " [ 5  6  2]\n",
            " [ 1  3  8]\n",
            " [ 2 12 18]]\n"
          ]
        }
      ]
    },
    {
      "cell_type": "markdown",
      "source": [
        "8. Stack the arrays a and b horizontally."
      ],
      "metadata": {
        "id": "3KzysuOLqvcr"
      }
    },
    {
      "cell_type": "code",
      "source": [
        "a = np.array([[10, 4, 1], [5, 6, 2]])\n",
        "b = np.array([[1, 3, 8], [2, 12, 18]])\n",
        "c = np.hstack((a, b))\n",
        "print(c)"
      ],
      "metadata": {
        "colab": {
          "base_uri": "https://localhost:8080/"
        },
        "id": "BpWa6Gibqwjs",
        "outputId": "ff8426b3-94cc-4a81-ead9-ba420e1afa05"
      },
      "execution_count": 24,
      "outputs": [
        {
          "output_type": "stream",
          "name": "stdout",
          "text": [
            "[[10  4  1  1  3  8]\n",
            " [ 5  6  2  2 12 18]]\n"
          ]
        }
      ]
    },
    {
      "cell_type": "markdown",
      "source": [
        "9. Get all items between 5 and 10 from a."
      ],
      "metadata": {
        "id": "Lb2UKIJrrBaO"
      }
    },
    {
      "cell_type": "code",
      "source": [
        "a = np.array([20, 18, 15, 10, 5, 3, 6])\n",
        "mask = (a <= 10) & (a>= 5 )\n",
        "result = a[mask]\n",
        "\n",
        "print(result)"
      ],
      "metadata": {
        "colab": {
          "base_uri": "https://localhost:8080/"
        },
        "id": "WTLS6HMArCVh",
        "outputId": "b174ed7e-e0db-4ee6-d8fa-bd5716570359"
      },
      "execution_count": 31,
      "outputs": [
        {
          "output_type": "stream",
          "name": "stdout",
          "text": [
            "[10  5  6]\n"
          ]
        }
      ]
    },
    {
      "cell_type": "markdown",
      "source": [
        "#  10. How to make a python function that handles scalars to work on numpy arrays?\n"
      ],
      "metadata": {
        "id": "vp0PyMd4sns5"
      }
    },
    {
      "cell_type": "code",
      "source": [
        "# Hint\n",
        "# Desired Output:\n",
        "# a = np.array([5, 7, 9, 8, 6, 4, 5])\n",
        "# b = np.array([6, 3, 4, 8, 9, 7, 1])\n",
        "# pair_max(a, b)\n",
        "# #> array([ 6.,  7.,  9.,  8.,  9.,  7.,  5.])\n",
        "\n",
        "def pair_max(a, b):\n",
        "    return np.maximum(a, b)\n",
        "\n",
        "# Example usage\n",
        "a = np.array([5, 7, 9, 8, 6, 4, 5])\n",
        "b = np.array([6, 3, 4, 8, 9, 7, 1])\n",
        "\n",
        "result = pair_max(a, b)\n",
        "print(result)"
      ],
      "metadata": {
        "colab": {
          "base_uri": "https://localhost:8080/"
        },
        "id": "jcXE00__tUV8",
        "outputId": "9b3da886-df14-4ab9-d12a-6950d15fd709"
      },
      "execution_count": 33,
      "outputs": [
        {
          "output_type": "stream",
          "name": "stdout",
          "text": [
            "[6 7 9 8 9 7 5]\n"
          ]
        }
      ]
    },
    {
      "cell_type": "markdown",
      "source": [
        "\n",
        "#  11. Swap columns 1 and 2 in the array arr.\n"
      ],
      "metadata": {
        "id": "SwjpdieIuJgf"
      }
    },
    {
      "cell_type": "code",
      "source": [
        "# Hint\n",
        "# Desired Output:\n",
        "# [[0 2 1]\n",
        "#  [3 5 4]\n",
        "#  [6 8 7]]\n",
        "\n",
        "# Given array\n",
        "arr = np.array([[0, 1, 2],\n",
        "                [3, 4, 5],\n",
        "                [6, 7, 8]])\n",
        "\n",
        "# Swap columns 1 and 2\n",
        "arr[:, [0, 1]] = arr[:, [1, 0]]\n",
        "\n",
        "print(arr)"
      ],
      "metadata": {
        "colab": {
          "base_uri": "https://localhost:8080/"
        },
        "id": "TaiRXZTIspF7",
        "outputId": "acf06c1d-04fd-4daa-d225-b4838887db03"
      },
      "execution_count": 34,
      "outputs": [
        {
          "output_type": "stream",
          "name": "stdout",
          "text": [
            "[[1 0 2]\n",
            " [4 3 5]\n",
            " [7 6 8]]\n"
          ]
        }
      ]
    },
    {
      "cell_type": "markdown",
      "source": [
        "#  12. Create a 2D array of shape 5x3 to contain random decimal numbers between 5 and 10.\n"
      ],
      "metadata": {
        "id": "mEZvTLC8vB7D"
      }
    },
    {
      "cell_type": "code",
      "source": [
        "# Hint\n",
        "# The desired Output should be like the following one:\n",
        "#  [[ 8.50061025  9.10531502  6.85867783]\n",
        "#   [ 9.76262069  9.87717411  7.13466701]\n",
        "#   [ 7.48966403  8.33409158  6.16808631]\n",
        "#   [ 7.75010551  9.94535696  5.27373226]\n",
        "#   [ 8.0850361   5.56165518  7.31244004]]\n",
        "\n",
        "\n",
        "array = np.random.uniform(low=5, high=10, size=(5,3))\n",
        "\n",
        "print(array)"
      ],
      "metadata": {
        "colab": {
          "base_uri": "https://localhost:8080/"
        },
        "id": "N0U_lEyFvEkV",
        "outputId": "f83bb4d5-b06e-481d-ffc4-76887cbdd3e9"
      },
      "execution_count": 35,
      "outputs": [
        {
          "output_type": "stream",
          "name": "stdout",
          "text": [
            "[[7.24660769 9.92690766 5.38964449]\n",
            " [8.12077257 8.58391562 9.99925153]\n",
            " [8.79662388 6.51751292 7.03233578]\n",
            " [7.49847044 5.18792204 8.04722097]\n",
            " [9.08795487 7.38268326 9.08747404]]\n"
          ]
        }
      ]
    },
    {
      "cell_type": "markdown",
      "source": [
        "BY MARIA MERCEDES MOREIRA VÉLEZ-INTELIGENCIA ARTIFICIAL-8°SEMESTRE"
      ],
      "metadata": {
        "id": "twR6CDL6wLuw"
      }
    },
    {
      "cell_type": "markdown",
      "source": [],
      "metadata": {
        "id": "Mbmvr8bcrH5B"
      }
    }
  ]
}