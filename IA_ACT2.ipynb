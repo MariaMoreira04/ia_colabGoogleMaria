{
  "nbformat": 4,
  "nbformat_minor": 0,
  "metadata": {
    "colab": {
      "provenance": [],
      "authorship_tag": "ABX9TyOhbX/9UMYrYIG9sDC6Ncrs",
      "include_colab_link": true
    },
    "kernelspec": {
      "name": "python3",
      "display_name": "Python 3"
    },
    "language_info": {
      "name": "python"
    }
  },
  "cells": [
    {
      "cell_type": "markdown",
      "metadata": {
        "id": "view-in-github",
        "colab_type": "text"
      },
      "source": [
        "<a href=\"https://colab.research.google.com/github/MariaMoreira04/ia_colabGoogleMaria/blob/main/IA_ACT2.ipynb\" target=\"_parent\"><img src=\"https://colab.research.google.com/assets/colab-badge.svg\" alt=\"Open In Colab\"/></a>"
      ]
    },
    {
      "cell_type": "code",
      "execution_count": null,
      "metadata": {
        "colab": {
          "base_uri": "https://localhost:8080/"
        },
        "id": "f9KPxUewq0NL",
        "outputId": "c21f411a-4dfd-4841-8939-803928646d70"
      },
      "outputs": [
        {
          "output_type": "stream",
          "name": "stdout",
          "text": [
            "My list: [-1, 0, 1]\n",
            "Negative\n",
            "Zero\n",
            "Positive\n"
          ]
        }
      ],
      "source": [
        "listTemp=list()\n",
        "listTemp.append(-1)\n",
        "listTemp.append(0)\n",
        "listTemp.append(1)\n",
        "\n",
        "print('My list: {}'.format(listTemp))\n",
        "\n",
        "def positiveNegative(number):\n",
        "  if number<0:\n",
        "    print('Negative')\n",
        "  elif number>0:\n",
        "    print('Positive')\n",
        "  else:\n",
        "      print('Zero')\n",
        "  pass\n",
        "\n",
        "for item in listTemp:\n",
        "  positiveNegative(item)\n",
        "\n",
        "# number=listTemp[1]\n",
        "# print('which one: ',number)\n",
        "# positiveNegative(number)"
      ]
    },
    {
      "cell_type": "code",
      "source": [
        "class persons():\n",
        "  def __init__(self,name,age):\n",
        "    self.name=name\n",
        "    self.age=age\n",
        "\n",
        "  def message(self):\n",
        "      print('Hola, {}'.format(self.name))\n",
        "      print('your age is, {}'.format(self.age))\n",
        "\n",
        "person1=persons('María', 21)\n",
        "person2=persons('Maryangel', 21)\n",
        "person3=persons('Jaritza', 22)\n",
        "person4=persons('Jose', 15)\n",
        "person5=persons('Pedro', 18)\n",
        "\n",
        "person1.message()"
      ],
      "metadata": {
        "id": "X6x5HYlx90Qs",
        "colab": {
          "base_uri": "https://localhost:8080/"
        },
        "outputId": "18a8b456-415d-4972-df0b-b223f93945b5"
      },
      "execution_count": null,
      "outputs": [
        {
          "output_type": "stream",
          "name": "stdout",
          "text": [
            "Hola, María\n",
            "your age is, 21\n"
          ]
        }
      ]
    },
    {
      "cell_type": "code",
      "source": [
        "import numpy as Joselito\n",
        "a=Joselito.array([1,2,3])\n",
        "print(a)\n",
        "print(a.shape)\n",
        "print(type[a])\n",
        "print('1 dimesion : ',a[1])\n",
        "\n",
        "import numpy as np\n",
        "b=np.array([[1,2,3],[4,5,6]])\n",
        "print(b.shape)\n",
        "print(b)\n",
        "print('number 5 : ',b[1,1])\n",
        "\n",
        "print('------')\n",
        "c=np.zeros((3,4),dtype=float)\n",
        "print(c)\n",
        "\n",
        "c=np.ones((3,4),dtype=float)\n",
        "print(c)\n",
        "print('----------')\n",
        "c=np.eye(5)\n",
        "print(c)\n",
        "\n",
        "\n"
      ],
      "metadata": {
        "colab": {
          "base_uri": "https://localhost:8080/"
        },
        "id": "dZMs6deFK5n7",
        "outputId": "79c4e08f-ca6c-461e-eebe-1e7263a19c31"
      },
      "execution_count": null,
      "outputs": [
        {
          "output_type": "stream",
          "name": "stdout",
          "text": [
            "[1 2 3]\n",
            "(3,)\n",
            "type[array([1, 2, 3])]\n",
            "1 dimesion :  2\n",
            "(2, 3)\n",
            "[[1 2 3]\n",
            " [4 5 6]]\n",
            "number 5 :  5\n",
            "------\n",
            "[[0. 0. 0. 0.]\n",
            " [0. 0. 0. 0.]\n",
            " [0. 0. 0. 0.]]\n",
            "[[1. 1. 1. 1.]\n",
            " [1. 1. 1. 1.]\n",
            " [1. 1. 1. 1.]]\n",
            "----------\n",
            "[[1. 0. 0. 0. 0.]\n",
            " [0. 1. 0. 0. 0.]\n",
            " [0. 0. 1. 0. 0.]\n",
            " [0. 0. 0. 1. 0.]\n",
            " [0. 0. 0. 0. 1.]]\n"
          ]
        }
      ]
    },
    {
      "cell_type": "code",
      "source": [
        "d=np.random.randn(4,4)\n",
        "print(d)"
      ],
      "metadata": {
        "colab": {
          "base_uri": "https://localhost:8080/"
        },
        "id": "iInExQPNIZ6C",
        "outputId": "379685da-23c5-4f90-a916-e7c1ddc0183c"
      },
      "execution_count": null,
      "outputs": [
        {
          "output_type": "stream",
          "name": "stdout",
          "text": [
            "[[ 0.46138123  1.56671819  0.69497102 -1.28313517]\n",
            " [-0.63882143  0.02036881  1.44421909 -0.03531729]\n",
            " [-1.75839279 -0.99111974 -1.16699903 -1.65348935]\n",
            " [-0.74236149 -0.44084895  1.41057231  1.24219495]]\n"
          ]
        }
      ]
    },
    {
      "cell_type": "markdown",
      "source": [
        "Sacar copia del arreglo original"
      ],
      "metadata": {
        "id": "QlBsx0ihJUoi"
      }
    },
    {
      "cell_type": "code",
      "source": [
        "d=10*np.random.randn(4,4)\n",
        "print(d)"
      ],
      "metadata": {
        "colab": {
          "base_uri": "https://localhost:8080/"
        },
        "id": "6AOElVuqIMYa",
        "outputId": "a98eb55b-9d51-4b92-b8d0-c226bf9d6cd0"
      },
      "execution_count": null,
      "outputs": [
        {
          "output_type": "stream",
          "name": "stdout",
          "text": [
            "[[-15.12425492   2.67249704  25.17037317   2.37053574]\n",
            " [-15.44894099   5.57054916  21.5167645    5.81791639]\n",
            " [ -7.02375272  10.21400579   2.95377506  18.00447265]\n",
            " [  2.62997683  -5.53345212   8.71981676 -12.43283258]]\n"
          ]
        }
      ]
    },
    {
      "cell_type": "code",
      "source": [
        "print(d[2,2])\n",
        "tmp=np.array(d)\n",
        "tmp[2,2]=150\n",
        "print(tmp[2,2])"
      ],
      "metadata": {
        "colab": {
          "base_uri": "https://localhost:8080/"
        },
        "id": "V4N59d-qIgkX",
        "outputId": "2b622fe8-2cc8-42a2-b249-849f4bd6ebfd"
      },
      "execution_count": null,
      "outputs": [
        {
          "output_type": "stream",
          "name": "stdout",
          "text": [
            "2.953775057589467\n",
            "150.0\n"
          ]
        }
      ]
    },
    {
      "cell_type": "code",
      "source": [
        "d=10*np.random.randn(5,5)\n",
        "print(d)"
      ],
      "metadata": {
        "colab": {
          "base_uri": "https://localhost:8080/"
        },
        "id": "bSyUI10yJiWu",
        "outputId": "ca17d4c3-b52e-45f3-b2eb-387aecba523a"
      },
      "execution_count": null,
      "outputs": [
        {
          "output_type": "stream",
          "name": "stdout",
          "text": [
            "[[-27.46002461  10.63279116  -0.46302189   7.31081367  -3.50294412]\n",
            " [-12.97257656   8.46591462   5.16502914   7.33355757  -2.58175555]\n",
            " [ 12.88330165 -19.38486927  -5.60948927   3.86357498  15.69340016]\n",
            " [ 14.50643823   1.67375987  13.34668756  -8.19678926 -17.93631138]\n",
            " [  3.86525401   6.03669373  -7.05612965  13.46627095 -11.47140285]]\n"
          ]
        }
      ]
    },
    {
      "cell_type": "markdown",
      "source": [
        "Generar copia personalizada"
      ],
      "metadata": {
        "id": "qAhXeDL2J8rM"
      }
    },
    {
      "cell_type": "code",
      "source": [
        "tmp=np.array(d[1:4,1:4])\n",
        "print(tmp)\n",
        "print(tmp.shape)"
      ],
      "metadata": {
        "colab": {
          "base_uri": "https://localhost:8080/"
        },
        "id": "YrpK3AC4J6PF",
        "outputId": "021265a4-c4d2-47db-a693-b32d647b6aae"
      },
      "execution_count": null,
      "outputs": [
        {
          "output_type": "stream",
          "name": "stdout",
          "text": [
            "[[  8.46591462   5.16502914   7.33355757]\n",
            " [-19.38486927  -5.60948927   3.86357498]\n",
            " [  1.67375987  13.34668756  -8.19678926]]\n",
            "(3, 3)\n"
          ]
        }
      ]
    },
    {
      "cell_type": "code",
      "source": [
        "tmp=np.array(d[:,1:4])\n",
        "print(tmp)\n",
        "print(tmp.shape)"
      ],
      "metadata": {
        "colab": {
          "base_uri": "https://localhost:8080/"
        },
        "id": "Sx0_96KWKunX",
        "outputId": "a1a7eef4-e591-44e5-8be2-dacbcdff9a0a"
      },
      "execution_count": null,
      "outputs": [
        {
          "output_type": "stream",
          "name": "stdout",
          "text": [
            "[[ 10.63279116  -0.46302189   7.31081367]\n",
            " [  8.46591462   5.16502914   7.33355757]\n",
            " [-19.38486927  -5.60948927   3.86357498]\n",
            " [  1.67375987  13.34668756  -8.19678926]\n",
            " [  6.03669373  -7.05612965  13.46627095]]\n",
            "(5, 3)\n"
          ]
        }
      ]
    },
    {
      "cell_type": "markdown",
      "source": [
        "MATRIZ DE VALORES BOOLEANOS"
      ],
      "metadata": {
        "id": "p1tlVqi3L9_3"
      }
    },
    {
      "cell_type": "code",
      "source": [
        "mask=d>10.0\n",
        "print(d.shape)\n",
        "print(mask)\n",
        "print(type(mask))\n",
        "\n",
        "tmp=d[mask]\n",
        "print('Values: {}'.format(tmp))\n",
        "print(type(tmp))\n",
        "print(tmp.shape)\n",
        "\n",
        "print(tmp[1])"
      ],
      "metadata": {
        "colab": {
          "base_uri": "https://localhost:8080/"
        },
        "id": "S_nP28waLnv8",
        "outputId": "915fdc07-a57b-441f-d245-8ef792cdbab8"
      },
      "execution_count": null,
      "outputs": [
        {
          "output_type": "stream",
          "name": "stdout",
          "text": [
            "(5, 5)\n",
            "[[False  True False False False]\n",
            " [False False False False False]\n",
            " [ True False False False  True]\n",
            " [ True False  True False False]\n",
            " [False False False  True False]]\n",
            "<class 'numpy.ndarray'>\n",
            "Values: [10.63279116 12.88330165 15.69340016 14.50643823 13.34668756 13.46627095]\n",
            "<class 'numpy.ndarray'>\n",
            "(6,)\n",
            "12.883301650660883\n"
          ]
        }
      ]
    },
    {
      "cell_type": "markdown",
      "source": [
        "OPERACIONES:"
      ],
      "metadata": {
        "id": "qnsbm0YvOuVR"
      }
    },
    {
      "cell_type": "code",
      "source": [
        "a=10*np.random.randn(3,3)\n",
        "\n",
        "b=10*np.random.randn(3,3)\n",
        "print(a)\n",
        "print('')\n",
        "print(b)"
      ],
      "metadata": {
        "colab": {
          "base_uri": "https://localhost:8080/"
        },
        "id": "eNn9vI5SNfev",
        "outputId": "ee498a91-5b40-4d6b-9288-7d71f05d9aca"
      },
      "execution_count": null,
      "outputs": [
        {
          "output_type": "stream",
          "name": "stdout",
          "text": [
            "[[-15.55132631 -16.53514201   1.05859696]\n",
            " [ 10.88995544  -8.57217421  -3.85591382]\n",
            " [  1.03649161  15.8368899   24.457728  ]]\n",
            "\n",
            "[[ -8.15321376   0.86452827  11.43468039]\n",
            " [  5.00139199   8.223501     7.16799772]\n",
            " [-22.59222769  11.15096254 -14.33819943]]\n"
          ]
        }
      ]
    },
    {
      "cell_type": "markdown",
      "source": [
        "SUMA"
      ],
      "metadata": {
        "id": "T5VLna2lOy3i"
      }
    },
    {
      "cell_type": "code",
      "source": [
        "print(a+b)"
      ],
      "metadata": {
        "colab": {
          "base_uri": "https://localhost:8080/"
        },
        "id": "NiURGFO8Or7E",
        "outputId": "64b7f648-b158-41b5-bbb1-8fd9d9cd32cb"
      },
      "execution_count": null,
      "outputs": [
        {
          "output_type": "stream",
          "name": "stdout",
          "text": [
            "[[-23.70454008 -15.67061374  12.49327736]\n",
            " [ 15.89134743  -0.34867321   3.3120839 ]\n",
            " [-21.55573608  26.98785244  10.11952857]]\n"
          ]
        }
      ]
    },
    {
      "cell_type": "code",
      "source": [
        "print(np.add(a,b))"
      ],
      "metadata": {
        "colab": {
          "base_uri": "https://localhost:8080/"
        },
        "id": "b0UsMEb8Pntw",
        "outputId": "e46a0035-2fdc-4685-8449-2795ac039161"
      },
      "execution_count": null,
      "outputs": [
        {
          "output_type": "stream",
          "name": "stdout",
          "text": [
            "[[-23.70454008 -15.67061374  12.49327736]\n",
            " [ 15.89134743  -0.34867321   3.3120839 ]\n",
            " [-21.55573608  26.98785244  10.11952857]]\n"
          ]
        }
      ]
    },
    {
      "cell_type": "markdown",
      "source": [
        "POTENCIA"
      ],
      "metadata": {
        "id": "1rMgVEyKP5E_"
      }
    },
    {
      "cell_type": "code",
      "source": [
        "c=np.array([[1,2],[2,4]])\n",
        "print(c.shape)\n",
        "print(c)\n",
        "\n",
        "print('----')\n",
        "# ELEVAR AL CUADRADO\n",
        "print(np.square(c))\n",
        "# ELEVAR AL CUBO\n",
        "print(np.power(c,3))"
      ],
      "metadata": {
        "colab": {
          "base_uri": "https://localhost:8080/"
        },
        "id": "PwrSP_C2Pw2V",
        "outputId": "d8697d34-8ef0-423a-9598-ce69cf0f8303"
      },
      "execution_count": null,
      "outputs": [
        {
          "output_type": "stream",
          "name": "stdout",
          "text": [
            "(2, 2)\n",
            "[[1 2]\n",
            " [2 4]]\n",
            "----\n",
            "[[ 1  4]\n",
            " [ 4 16]]\n",
            "[[ 1  8]\n",
            " [ 8 64]]\n"
          ]
        }
      ]
    },
    {
      "cell_type": "code",
      "source": [
        "c=10*np.random.rand(3,4)\n",
        "print(c)\n"
      ],
      "metadata": {
        "colab": {
          "base_uri": "https://localhost:8080/"
        },
        "id": "r7DdZ85URUb6",
        "outputId": "637461b1-a837-4210-d163-dfc9433c400e"
      },
      "execution_count": null,
      "outputs": [
        {
          "output_type": "stream",
          "name": "stdout",
          "text": [
            "[[2.95229358 4.07890652 1.41314258 0.9825092 ]\n",
            " [0.55244642 3.75922755 9.8891209  4.54694929]\n",
            " [7.65346033 5.90103768 9.4411905  1.02259135]]\n"
          ]
        }
      ]
    },
    {
      "cell_type": "code",
      "source": [
        "# print(c.mean(axis=0))\n",
        "# # print(c.mean(axis=1))"
      ],
      "metadata": {
        "id": "oq4fAGTLSHl9"
      },
      "execution_count": null,
      "outputs": []
    },
    {
      "cell_type": "code",
      "source": [
        "# # print(c.mean(axis=0))\n",
        "# print(c.mean(axis=1))"
      ],
      "metadata": {
        "id": "2nphRG3mSdaA"
      },
      "execution_count": null,
      "outputs": []
    },
    {
      "cell_type": "code",
      "source": [
        "c=10*np.random.rand(3,3)\n",
        "h=10*np.random.rand(3,3)\n",
        "print(c)\n",
        "print()\n",
        "print(h)"
      ],
      "metadata": {
        "colab": {
          "base_uri": "https://localhost:8080/"
        },
        "id": "7H0NoWHLTkBh",
        "outputId": "d7706282-c17f-452e-ea26-a7f96852ac06"
      },
      "execution_count": null,
      "outputs": [
        {
          "output_type": "stream",
          "name": "stdout",
          "text": [
            "[[0.55540914 2.00484688 5.66790313]\n",
            " [4.92895382 8.30881069 5.38005053]\n",
            " [9.60877156 7.43490466 6.52395269]]\n",
            "\n",
            "[[4.13972092 2.15992486 2.04635853]\n",
            " [1.54098631 7.85155895 3.68581031]\n",
            " [4.97344203 1.47255908 3.69951264]]\n"
          ]
        }
      ]
    },
    {
      "cell_type": "code",
      "source": [
        "# VERTICAL\n",
        "yl=np.vstack((c,h))\n",
        "print(yl)\n",
        "\n",
        "print('----')\n",
        "# HORIZONTAL\n",
        "yl=np.hstack((c,h))\n",
        "print(yl)"
      ],
      "metadata": {
        "colab": {
          "base_uri": "https://localhost:8080/"
        },
        "id": "YkwAZ1zFUIty",
        "outputId": "b601959d-1f48-4ec7-df26-33795d2ada8f"
      },
      "execution_count": null,
      "outputs": [
        {
          "output_type": "stream",
          "name": "stdout",
          "text": [
            "[[0.55540914 2.00484688 5.66790313]\n",
            " [4.92895382 8.30881069 5.38005053]\n",
            " [9.60877156 7.43490466 6.52395269]\n",
            " [4.13972092 2.15992486 2.04635853]\n",
            " [1.54098631 7.85155895 3.68581031]\n",
            " [4.97344203 1.47255908 3.69951264]]\n",
            "----\n",
            "[[0.55540914 2.00484688 5.66790313 4.13972092 2.15992486 2.04635853]\n",
            " [4.92895382 8.30881069 5.38005053 1.54098631 7.85155895 3.68581031]\n",
            " [9.60877156 7.43490466 6.52395269 4.97344203 1.47255908 3.69951264]]\n"
          ]
        }
      ]
    }
  ]
}